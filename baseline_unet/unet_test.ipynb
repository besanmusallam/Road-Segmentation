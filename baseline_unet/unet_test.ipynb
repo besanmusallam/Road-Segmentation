{
  "cells": [
    {
      "cell_type": "code",
      "execution_count": null,
      "metadata": {
        "colab": {
          "base_uri": "https://localhost:8080/"
        },
        "id": "5FcNxzQ8aZ6S",
        "outputId": "9e3a057d-05ca-4c6c-b790-2ddde4e7f07e"
      },
      "outputs": [
        {
          "name": "stdout",
          "output_type": "stream",
          "text": [
            "Cloning into 'Road-Segmentation'...\n",
            "remote: Enumerating objects: 208, done.\u001b[K\n",
            "remote: Counting objects: 100% (208/208), done.\u001b[K\n",
            "remote: Compressing objects: 100% (116/116), done.\u001b[K\n",
            "remote: Total 208 (delta 101), reused 187 (delta 83), pack-reused 0 (from 0)\u001b[K\n",
            "Receiving objects: 100% (208/208), 4.45 MiB | 13.26 MiB/s, done.\n",
            "Resolving deltas: 100% (101/101), done.\n"
          ]
        }
      ],
      "source": [
        "!git clone https://github.com/besanmusallam/Road-Segmentation.git"
      ]
    },
    {
      "cell_type": "code",
      "execution_count": null,
      "metadata": {
        "colab": {
          "base_uri": "https://localhost:8080/"
        },
        "id": "OsynA5_iamOE",
        "outputId": "e3018ccf-66a9-413f-f064-a43a8e0937f3"
      },
      "outputs": [
        {
          "name": "stdout",
          "output_type": "stream",
          "text": [
            "/content/Road-Segmentation\n"
          ]
        }
      ],
      "source": [
        "%cd /content/Road-Segmentation/"
      ]
    },
    {
      "cell_type": "code",
      "execution_count": null,
      "metadata": {
        "colab": {
          "base_uri": "https://localhost:8080/"
        },
        "id": "rA763MudbGLK",
        "outputId": "5fc84862-aaba-4ed7-fb47-b5b4409be122"
      },
      "outputs": [
        {
          "name": "stdout",
          "output_type": "stream",
          "text": [
            "* \u001b[32mmain\u001b[m\n",
            "  \u001b[31mremotes/origin/HEAD\u001b[m -> origin/main\n",
            "  \u001b[31mremotes/origin/Thurayas_branch\u001b[m\n",
            "  \u001b[31mremotes/origin/main\u001b[m\n",
            "  \u001b[31mremotes/origin/master\u001b[m\n"
          ]
        }
      ],
      "source": [
        "!git branch -a"
      ]
    },
    {
      "cell_type": "code",
      "execution_count": null,
      "metadata": {
        "colab": {
          "base_uri": "https://localhost:8080/"
        },
        "id": "zjyEpcl1bImy",
        "outputId": "be14a2cb-3063-4932-a226-500fda19e4f4"
      },
      "outputs": [
        {
          "name": "stdout",
          "output_type": "stream",
          "text": [
            "Branch 'master' set up to track remote branch 'master' from 'origin'.\n",
            "Switched to a new branch 'master'\n"
          ]
        }
      ],
      "source": [
        "!git checkout origin/master -b master"
      ]
    },
    {
      "cell_type": "markdown",
      "metadata": {},
      "source": [
        "### Training on augmented data"
      ]
    },
    {
      "cell_type": "code",
      "execution_count": null,
      "metadata": {
        "colab": {
          "base_uri": "https://localhost:8080/"
        },
        "id": "hR4MBCskbPPx",
        "outputId": "f41f85ed-143f-4e26-ff42-88393039405d"
      },
      "outputs": [
        {
          "name": "stdout",
          "output_type": "stream",
          "text": [
            "/content/Road-Segmentation/train.py:154: FutureWarning: You are using `torch.load` with `weights_only=False` (the current default value), which uses the default pickle module implicitly. It is possible to construct malicious pickle data which will execute arbitrary code during unpickling (See https://github.com/pytorch/pytorch/blob/main/SECURITY.md#untrusted-models for more details). In a future release, the default value for `weights_only` will be flipped to `True`. This limits the functions that could be executed during unpickling. Arbitrary objects will no longer be allowed to be loaded via this mode unless they are explicitly allowlisted by the user via `torch.serialization.add_safe_globals`. We recommend you start setting `weights_only=True` for any use case where you don't have full control of the loaded file. Please open an issue on GitHub for any issues related to this experimental feature.\n",
            "  model.load_state_dict(torch.load(model_path, map_location=device))\n",
            "\n",
            "Epoch 1/10\n",
            "Batch 0: Loss = 0.3190\n",
            "Batch 10: Loss = 0.3223\n",
            "Batch 20: Loss = 0.3466\n",
            "Batch 30: Loss = 0.2722\n",
            "Batch 40: Loss = 0.3304\n",
            "F1 Scores: {'background': 0.45332931469374027, 'road': 0.45332931469374027, 'average': 0.45332931469374027}\n",
            "Epoch 1 Loss: 0.3010\n",
            "Best model saved with F1-score: 0.4533\n",
            "\n",
            "Epoch 2/10\n",
            "Batch 0: Loss = 0.2649\n",
            "Batch 10: Loss = 0.2864\n",
            "Batch 20: Loss = 0.2754\n",
            "Batch 30: Loss = 0.2253\n",
            "Batch 40: Loss = 0.2517\n",
            "F1 Scores: {'background': 0.5596283243013433, 'road': 0.5596283243013433, 'average': 0.5596283243013433}\n",
            "Epoch 2 Loss: 0.2639\n",
            "Best model saved with F1-score: 0.5596\n",
            "\n",
            "Epoch 3/10\n",
            "Batch 0: Loss = 0.2792\n",
            "Batch 10: Loss = 0.2654\n",
            "Batch 20: Loss = 0.2186\n",
            "Batch 30: Loss = 0.2197\n",
            "Batch 40: Loss = 0.2338\n",
            "F1 Scores: {'background': 0.6056987149435327, 'road': 0.6056987149435327, 'average': 0.6056987149435327}\n",
            "Epoch 3 Loss: 0.2474\n",
            "Best model saved with F1-score: 0.6057\n",
            "\n",
            "Epoch 4/10\n",
            "Batch 0: Loss = 0.2634\n",
            "Batch 10: Loss = 0.1715\n",
            "Batch 20: Loss = 0.2404\n",
            "Batch 30: Loss = 0.3761\n",
            "Batch 40: Loss = 0.2299\n",
            "F1 Scores: {'background': 0.6417733442887905, 'road': 0.6417733442887905, 'average': 0.6417733442887905}\n",
            "Epoch 4 Loss: 0.2335\n",
            "Best model saved with F1-score: 0.6418\n",
            "\n",
            "Epoch 5/10\n",
            "Batch 0: Loss = 0.2186\n",
            "Batch 10: Loss = 0.2260\n",
            "Batch 20: Loss = 0.1930\n",
            "Batch 30: Loss = 0.2067\n",
            "Batch 40: Loss = 0.2476\n",
            "F1 Scores: {'background': 0.6799427913106344, 'road': 0.6799427913106344, 'average': 0.6799427913106344}\n",
            "Epoch 5 Loss: 0.2188\n",
            "Best model saved with F1-score: 0.6799\n",
            "\n",
            "Epoch 6/10\n",
            "Batch 0: Loss = 0.2103\n",
            "Batch 10: Loss = 0.2362\n",
            "Batch 20: Loss = 0.2422\n",
            "Batch 30: Loss = 0.1975\n",
            "Batch 40: Loss = 0.1626\n",
            "F1 Scores: {'background': 0.7087837218617709, 'road': 0.7087837218617709, 'average': 0.7087837218617709}\n",
            "Epoch 6 Loss: 0.2081\n",
            "Best model saved with F1-score: 0.7088\n",
            "\n",
            "Epoch 7/10\n",
            "Batch 0: Loss = 0.2899\n",
            "Batch 10: Loss = 0.2181\n",
            "Batch 20: Loss = 0.2694\n",
            "Batch 30: Loss = 0.1924\n",
            "Batch 40: Loss = 0.2361\n",
            "F1 Scores: {'background': 0.699360734400311, 'road': 0.699360734400311, 'average': 0.699360734400311}\n",
            "Epoch 7 Loss: 0.2097\n",
            "\n",
            "Epoch 8/10\n",
            "Batch 0: Loss = 0.1956\n",
            "Batch 10: Loss = 0.1817\n",
            "Batch 20: Loss = 0.2225\n",
            "Batch 30: Loss = 0.1763\n",
            "Batch 40: Loss = 0.1828\n",
            "F1 Scores: {'background': 0.7354348464312079, 'road': 0.7354348464312079, 'average': 0.7354348464312079}\n",
            "Epoch 8 Loss: 0.1926\n",
            "Best model saved with F1-score: 0.7354\n",
            "\n",
            "Epoch 9/10\n",
            "Batch 0: Loss = 0.1679\n",
            "Batch 10: Loss = 0.1778\n",
            "Batch 20: Loss = 0.1742\n",
            "Batch 30: Loss = 0.2285\n",
            "Batch 40: Loss = 0.1829\n",
            "F1 Scores: {'background': 0.7651955184188064, 'road': 0.7651955184188064, 'average': 0.7651955184188064}\n",
            "Epoch 9 Loss: 0.1815\n",
            "Best model saved with F1-score: 0.7652\n",
            "\n",
            "Epoch 10/10\n",
            "Batch 0: Loss = 0.1647\n",
            "Batch 10: Loss = 0.2268\n",
            "Batch 20: Loss = 0.1495\n",
            "Batch 30: Loss = 0.1606\n",
            "Batch 40: Loss = 0.1614\n",
            "F1 Scores: {'background': 0.7731358164859762, 'road': 0.7731358164859762, 'average': 0.7731358164859762}\n",
            "Epoch 10 Loss: 0.1762\n",
            "Best model saved with F1-score: 0.7731\n",
            "Model saved at epoch 10\n",
            "Training complete.\n",
            "Best F1 Score: 0.7731\n",
            "Final model saved.\n",
            "Plot saved as 'training_metrics.png'\n",
            "Test F1 Scores: {'background': 0.7537235961556588, 'road': 0.7537235961556588, 'average': 0.7537235961556588}\n",
            "Test F1 Score: 0.7537\n",
            "Training time: 38.891096945603685\n"
          ]
        }
      ],
      "source": [
        "# Training on augmented data/ no noise\n",
        "import time\n",
        "time1 = time.time()\n",
        "!python train.py\n",
        "time2 = time.time()\n",
        "total_time = time2 - time1\n",
        "print(f\"Training time: {total_time/60}\")"
      ]
    },
    {
      "cell_type": "markdown",
      "metadata": {},
      "source": [
        "### Training on agumented data with white noise"
      ]
    },
    {
      "cell_type": "code",
      "execution_count": null,
      "metadata": {
        "colab": {
          "base_uri": "https://localhost:8080/"
        },
        "id": "VHFfXLm_wDcc",
        "outputId": "0720794e-abcc-4e76-e353-6ad1fb3c8597"
      },
      "outputs": [
        {
          "name": "stdout",
          "output_type": "stream",
          "text": [
            "\n",
            "Epoch 1/10\n",
            "Batch 0: Loss = 0.6120\n",
            "Batch 10: Loss = 0.4444\n",
            "Batch 20: Loss = 0.3636\n",
            "Batch 30: Loss = 0.3969\n",
            "Batch 40: Loss = 0.3979\n",
            "F1 Scores: {'background': 0.06447597086538201, 'road': 0.06447597086538201, 'average': 0.06447597086538201}\n",
            "Epoch 1 Loss: 0.4172\n",
            "Best model saved with F1-score: 0.0645\n",
            "\n",
            "Epoch 2/10\n",
            "Batch 0: Loss = 0.3709\n",
            "Batch 10: Loss = 0.3578\n",
            "Batch 20: Loss = 0.3675\n",
            "Batch 30: Loss = 0.3452\n",
            "Batch 40: Loss = 0.4429\n",
            "F1 Scores: {'background': 0.01267872061219911, 'road': 0.01267872061219911, 'average': 0.01267872061219911}\n",
            "Epoch 2 Loss: 0.3741\n",
            "\n",
            "Epoch 3/10\n",
            "Batch 0: Loss = 0.3864\n",
            "Batch 10: Loss = 0.3878\n",
            "Batch 20: Loss = 0.3915\n",
            "Batch 30: Loss = 0.3748\n",
            "Batch 40: Loss = 0.3491\n",
            "F1 Scores: {'background': 0.011654055092585304, 'road': 0.011654055092585304, 'average': 0.011654055092585304}\n",
            "Epoch 3 Loss: 0.3704\n",
            "\n",
            "Epoch 4/10\n",
            "Batch 0: Loss = 0.3533\n",
            "Batch 10: Loss = 0.3475\n",
            "Batch 20: Loss = 0.3407\n",
            "Batch 30: Loss = 0.3890\n",
            "Batch 40: Loss = 0.4455\n",
            "F1 Scores: {'background': 0.0007418208241372722, 'road': 0.0007418208241372722, 'average': 0.0007418208241372722}\n",
            "Epoch 4 Loss: 0.3636\n",
            "\n",
            "Epoch 5/10\n",
            "Batch 0: Loss = 0.3598\n",
            "Batch 10: Loss = 0.3618\n",
            "Batch 20: Loss = 0.4184\n",
            "Batch 30: Loss = 0.4087\n",
            "Batch 40: Loss = 0.3443\n",
            "F1 Scores: {'background': 0.0401133842038896, 'road': 0.0401133842038896, 'average': 0.0401133842038896}\n",
            "Epoch 5 Loss: 0.3489\n",
            "\n",
            "Epoch 6/10\n",
            "Batch 0: Loss = 0.3413\n",
            "Batch 10: Loss = 0.2945\n",
            "Batch 20: Loss = 0.4373\n",
            "Batch 30: Loss = 0.3286\n",
            "Batch 40: Loss = 0.3411\n",
            "F1 Scores: {'background': 0.09340691233489419, 'road': 0.09340691233489419, 'average': 0.09340691233489419}\n",
            "Epoch 6 Loss: 0.3511\n",
            "Best model saved with F1-score: 0.0934\n",
            "\n",
            "Epoch 7/10\n",
            "Batch 0: Loss = 0.3420\n",
            "Batch 10: Loss = 0.3297\n",
            "Batch 20: Loss = 0.3324\n",
            "Batch 30: Loss = 0.3398\n",
            "Batch 40: Loss = 0.3307\n",
            "F1 Scores: {'background': 0.08283580609515927, 'road': 0.08283580609515927, 'average': 0.08283580609515927}\n",
            "Epoch 7 Loss: 0.3467\n",
            "\n",
            "Epoch 8/10\n",
            "Batch 0: Loss = 0.3716\n",
            "Batch 10: Loss = 0.3119\n",
            "Batch 20: Loss = 0.3392\n",
            "Batch 30: Loss = 0.3549\n",
            "Batch 40: Loss = 0.3267\n",
            "F1 Scores: {'background': 0.2416757645665613, 'road': 0.2416757645665613, 'average': 0.2416757645665613}\n",
            "Epoch 8 Loss: 0.3337\n",
            "Best model saved with F1-score: 0.2417\n",
            "\n",
            "Epoch 9/10\n",
            "Batch 0: Loss = 0.3171\n",
            "Batch 10: Loss = 0.3074\n",
            "Batch 20: Loss = 0.3013\n",
            "Batch 30: Loss = 0.3183\n",
            "Batch 40: Loss = 0.3000\n",
            "F1 Scores: {'background': 0.2697353523719072, 'road': 0.2697353523719072, 'average': 0.2697353523719072}\n",
            "Epoch 9 Loss: 0.3305\n",
            "Best model saved with F1-score: 0.2697\n",
            "\n",
            "Epoch 10/10\n",
            "Batch 0: Loss = 0.3165\n",
            "Batch 10: Loss = 0.2609\n",
            "Batch 20: Loss = 0.3331\n",
            "Batch 30: Loss = 0.3329\n",
            "Batch 40: Loss = 0.2680\n",
            "F1 Scores: {'background': 0.31587913501647735, 'road': 0.31587913501647735, 'average': 0.31587913501647735}\n",
            "Epoch 10 Loss: 0.3249\n",
            "Best model saved with F1-score: 0.3159\n",
            "Model saved at epoch 10\n",
            "Training complete.\n",
            "Best F1 Score: 0.3159\n",
            "Final model saved.\n",
            "Plot saved as 'training_metrics.png'\n",
            "Test F1 Scores: {'background': 0.4694129719290306, 'road': 0.4694129719290306, 'average': 0.4694129719290306}\n",
            "Test F1 Score: 0.4694\n",
            "Training time: 38.24492775201797\n"
          ]
        }
      ],
      "source": [
        "# Training on augmented data with noise\n",
        "import time\n",
        "time1 = time.time()\n",
        "!python train.py\n",
        "time2 = time.time()\n",
        "total_time = time2 - time1\n",
        "print(f\"Training time: {total_time/60}\")"
      ]
    },
    {
      "cell_type": "markdown",
      "metadata": {},
      "source": [
        "### Training on preprocessed data with no agumentation"
      ]
    },
    {
      "cell_type": "code",
      "execution_count": null,
      "metadata": {
        "colab": {
          "base_uri": "https://localhost:8080/"
        },
        "id": "inaLy2rDKsYE",
        "outputId": "f03453db-f568-4c90-9597-4b68d77b61be"
      },
      "outputs": [
        {
          "name": "stdout",
          "output_type": "stream",
          "text": [
            "\n",
            "Epoch 1/10\n",
            "Batch 0: Loss = 0.7438\n",
            "F1 Scores: {'background': 0.36744749572707924, 'road': 0.36744749572707924, 'average': 0.36744749572707924}\n",
            "Epoch 1 Loss: 0.6056\n",
            "Best model saved with F1-score: 0.3674\n",
            "\n",
            "Epoch 2/10\n",
            "Batch 0: Loss = 0.4911\n",
            "F1 Scores: {'background': 0.21491376336667817, 'road': 0.21491376336667817, 'average': 0.21491376336667817}\n",
            "Epoch 2 Loss: 0.4525\n",
            "\n",
            "Epoch 3/10\n",
            "Batch 0: Loss = 0.4104\n",
            "F1 Scores: {'background': 0.4436661272177447, 'road': 0.4436661272177447, 'average': 0.4436661272177447}\n",
            "Epoch 3 Loss: 0.3990\n",
            "Best model saved with F1-score: 0.4437\n",
            "\n",
            "Epoch 4/10\n",
            "Batch 0: Loss = 0.3629\n",
            "F1 Scores: {'background': 0.47865630607898, 'road': 0.47865630607898, 'average': 0.47865630607898}\n",
            "Epoch 4 Loss: 0.3751\n",
            "Best model saved with F1-score: 0.4787\n",
            "\n",
            "Epoch 5/10\n",
            "Batch 0: Loss = 0.3898\n",
            "F1 Scores: {'background': 0.4614941618943721, 'road': 0.4614941618943721, 'average': 0.4614941618943721}\n",
            "Epoch 5 Loss: 0.3699\n",
            "\n",
            "Epoch 6/10\n",
            "Batch 0: Loss = 0.3036\n",
            "F1 Scores: {'background': 0.41384637511855443, 'road': 0.41384637511855443, 'average': 0.41384637511855443}\n",
            "Epoch 6 Loss: 0.3632\n",
            "\n",
            "Epoch 7/10\n",
            "Batch 0: Loss = 0.3224\n",
            "F1 Scores: {'background': 0.5750251581064488, 'road': 0.5750251581064488, 'average': 0.5750251581064488}\n",
            "Epoch 7 Loss: 0.3435\n",
            "Best model saved with F1-score: 0.5750\n",
            "\n",
            "Epoch 8/10\n",
            "Batch 0: Loss = 0.3398\n",
            "F1 Scores: {'background': 0.5893219920816363, 'road': 0.5893219920816363, 'average': 0.5893219920816363}\n",
            "Epoch 8 Loss: 0.3266\n",
            "Best model saved with F1-score: 0.5893\n",
            "\n",
            "Epoch 9/10\n",
            "Batch 0: Loss = 0.2843\n",
            "F1 Scores: {'background': 0.5870019922040467, 'road': 0.5870019922040467, 'average': 0.5870019922040467}\n",
            "Epoch 9 Loss: 0.3120\n",
            "\n",
            "Epoch 10/10\n",
            "Batch 0: Loss = 0.3113\n",
            "F1 Scores: {'background': 0.6245933957690043, 'road': 0.6245933957690043, 'average': 0.6245933957690043}\n",
            "Epoch 10 Loss: 0.3127\n",
            "Best model saved with F1-score: 0.6246\n",
            "Model saved at epoch 10\n",
            "Training complete.\n",
            "Best F1 Score: 0.6246\n",
            "Final model saved.\n",
            "Plot saved as 'training_metrics.png'\n",
            "Test F1 Scores: {'background': 0.49083893741569545, 'road': 0.49083893741569545, 'average': 0.49083893741569545}\n",
            "Test F1 Score: 0.4908\n",
            "Training time: 7.8395021518071495\n"
          ]
        }
      ],
      "source": [
        "# Training processed data no noise no augment\n",
        "import time\n",
        "time1 = time.time()\n",
        "!python train.py\n",
        "time2 = time.time()\n",
        "total_time = time2 - time1\n",
        "print(f\"Training time: {total_time/60}\")"
      ]
    }
  ],
  "metadata": {
    "colab": {
      "provenance": []
    },
    "kernelspec": {
      "display_name": "Python 3",
      "name": "python3"
    },
    "language_info": {
      "name": "python"
    }
  },
  "nbformat": 4,
  "nbformat_minor": 0
}
